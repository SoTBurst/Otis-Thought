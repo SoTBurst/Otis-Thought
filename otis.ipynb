{
 "cells": [
  {
   "cell_type": "code",
   "execution_count": 277,
   "metadata": {},
   "outputs": [],
   "source": [
    "import numpy as np\n",
    "\n",
    "END_HEIGHT = 3\n",
    "END_WIDTH = 3\n",
    "MAXLENGTH = END_HEIGHT * END_WIDTH - 1\n",
    "OPTIONLENGTH = MAXLENGTH \n",
    "current_options = []\n",
    "old_options = []\n",
    "total_options = set()\n"
   ]
  },
  {
   "cell_type": "code",
   "execution_count": 278,
   "metadata": {},
   "outputs": [],
   "source": [
    "from sympy import divisors\n",
    "\n",
    "def is_line_allowed(tuple1, tuple2):\n",
    "\n",
    "    if len(tuple1) != 2:\n",
    "        return False\n",
    "    if len(tuple1) != len(tuple2):\n",
    "        return False\n",
    "        \n",
    "    diffHeight = abs(tuple1[0] - tuple2[0])\n",
    "    diffWidth = abs(tuple1[1] - tuple2[1])\n",
    "\n",
    "    if diffHeight == 0 and diffWidth == 0:\n",
    "        return False\n",
    "\n",
    "    if diffHeight == 0 or diffWidth == 0:\n",
    "        return diffHeight == 1 or diffWidth == 1\n",
    "\n",
    "    intersection = set(divisors(diffHeight)) & set(divisors(diffWidth))\n",
    "    intersection.discard(1)\n",
    "    return len(intersection) == 0\n"
   ]
  },
  {
   "cell_type": "code",
   "execution_count": 279,
   "metadata": {},
   "outputs": [
    {
     "name": "stdout",
     "output_type": "stream",
     "text": [
      "HEIGHT: 1; WIDTH: 1; OPTIONS: 0\n",
      "HEIGHT: 1; WIDTH: 2; OPTIONS: 2\n",
      "HEIGHT: 1; WIDTH: 3; OPTIONS: 6\n",
      "HEIGHT: 2; WIDTH: 2; OPTIONS: 60\n",
      "HEIGHT: 2; WIDTH: 3; OPTIONS: 1058\n",
      "HEIGHT: 3; WIDTH: 3; OPTIONS: 140240\n"
     ]
    }
   ],
   "source": [
    "for HEIGHT in range(1, END_HEIGHT+1):\n",
    "    for WIDTH in range(HEIGHT, END_WIDTH+1):\n",
    "        MAXLENGTH = HEIGHT * WIDTH - 1\n",
    "        OPTIONLENGTH = MAXLENGTH \n",
    "\n",
    "        current_options = []\n",
    "        old_options = []\n",
    "        total_options = set()\n",
    "\n",
    "        for i in range(1, HEIGHT+1):\n",
    "            for j in range(1, WIDTH+1):\n",
    "                old_options.append([(i, j)])\n",
    "\n",
    "\n",
    "        for i in range(1, OPTIONLENGTH+1):\n",
    "            if HEIGHT >= 4:\n",
    "                print(\"starting length: \" + str(i-1))\n",
    "                print(\"current total options: \" + str(len(total_options)))\n",
    "            for option in old_options:\n",
    "                for i in range(1, HEIGHT+1):\n",
    "                    for j in range(1, WIDTH+1):\n",
    "                        current_touple = (i, j)\n",
    "                        if current_touple not in option:\n",
    "                            if is_line_allowed(option[-1], current_touple):\n",
    "                                current_options.append(option + [current_touple])\n",
    "            old_options = current_options\n",
    "            total_options.update(set(tuple(option) for option in old_options))\n",
    "            current_options = []\n",
    "                    \n",
    "\n",
    "        sorted_total_options = sorted(list(total_options))\n",
    "        print(\"HEIGHT: \" + str(HEIGHT) + \"; WIDTH: \" + str(WIDTH) + \"; OPTIONS: \" + str(len(sorted_total_options)))"
   ]
  },
  {
   "cell_type": "code",
   "execution_count": null,
   "metadata": {},
   "outputs": [],
   "source": []
  },
  {
   "cell_type": "code",
   "execution_count": null,
   "metadata": {},
   "outputs": [],
   "source": []
  },
  {
   "cell_type": "code",
   "execution_count": null,
   "metadata": {},
   "outputs": [],
   "source": []
  }
 ],
 "metadata": {
  "kernelspec": {
   "display_name": "Python 3",
   "language": "python",
   "name": "python3"
  },
  "language_info": {
   "codemirror_mode": {
    "name": "ipython",
    "version": 3
   },
   "file_extension": ".py",
   "mimetype": "text/x-python",
   "name": "python",
   "nbconvert_exporter": "python",
   "pygments_lexer": "ipython3",
   "version": "3.11.0"
  }
 },
 "nbformat": 4,
 "nbformat_minor": 2
}
