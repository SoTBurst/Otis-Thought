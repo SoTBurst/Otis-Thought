{
 "cells": [
  {
   "cell_type": "code",
   "execution_count": 133,
   "metadata": {},
   "outputs": [],
   "source": [
    "HEIGHT = 2\n",
    "WIDTH = 2\n",
    "OPTIONLENGTH = 2\n",
    "current_options = []\n",
    "old_options = []\n",
    "total_options = set()\n",
    "\n",
    "for i in range(1, HEIGHT+1):\n",
    "    for j in range(1, WIDTH+1):\n",
    "        old_options.append([(i, j)])\n"
   ]
  },
  {
   "cell_type": "code",
   "execution_count": 134,
   "metadata": {},
   "outputs": [],
   "source": [
    "from sympy import divisors\n",
    "\n",
    "def is_line_allowed(tuple1, tuple2):\n",
    "\n",
    "    if len(tuple1) != 2:\n",
    "        return False\n",
    "    if len(tuple1) != len(tuple2):\n",
    "        return False\n",
    "        \n",
    "    diffHeight = abs(tuple1[0] - tuple2[0])\n",
    "    diffWidth = abs(tuple1[1] - tuple2[1])\n",
    "\n",
    "    if diffHeight == 0 and diffWidth == 0:\n",
    "        return False\n",
    "\n",
    "    if diffHeight == 0 or diffWidth == 0:\n",
    "        return diffHeight == 1 or diffWidth == 1\n",
    "\n",
    "    intersection = set(divisors(diffHeight)) & set(divisors(diffWidth))\n",
    "    intersection.discard(1)\n",
    "    return len(intersection) == 0\n"
   ]
  },
  {
   "cell_type": "code",
   "execution_count": 135,
   "metadata": {},
   "outputs": [],
   "source": [
    "for i in range(1, OPTIONLENGTH+1):\n",
    "    for option in old_options:\n",
    "        for i in range(1, HEIGHT+1):\n",
    "            for j in range(1, WIDTH+1):\n",
    "                current_touple = (i, j)\n",
    "                if current_touple not in option:\n",
    "                    if is_line_allowed(option[-1], current_touple):\n",
    "                        current_options.append(option + [current_touple])\n",
    "    old_options = current_options\n",
    "    total_options.update(set(tuple(option) for option in old_options))\n",
    "    current_options = []\n",
    "            \n",
    "\n"
   ]
  },
  {
   "cell_type": "code",
   "execution_count": 136,
   "metadata": {},
   "outputs": [
    {
     "name": "stdout",
     "output_type": "stream",
     "text": [
      "{((1, 1), (2, 1)), ((2, 1), (2, 2)), ((2, 2), (1, 1)), ((1, 2), (2, 1)), ((1, 1), (2, 2)), ((1, 2), (1, 1)), ((2, 1), (1, 2)), ((2, 2), (1, 2)), ((2, 2), (2, 1)), ((1, 1), (1, 2)), ((1, 2), (2, 2)), ((2, 1), (1, 1))}\n",
      "12\n"
     ]
    }
   ],
   "source": [
    "print(total_options)\n",
    "print(len(total_options))"
   ]
  }
 ],
 "metadata": {
  "kernelspec": {
   "display_name": "Python 3",
   "language": "python",
   "name": "python3"
  },
  "language_info": {
   "codemirror_mode": {
    "name": "ipython",
    "version": 3
   },
   "file_extension": ".py",
   "mimetype": "text/x-python",
   "name": "python",
   "nbconvert_exporter": "python",
   "pygments_lexer": "ipython3",
   "version": "3.11.0"
  }
 },
 "nbformat": 4,
 "nbformat_minor": 2
}
